{
 "cells": [
  {
   "cell_type": "code",
   "execution_count": 1,
   "metadata": {
    "collapsed": false
   },
   "outputs": [
    {
     "name": "stdout",
     "output_type": "stream",
     "text": [
      "5\n",
      "odd\n"
     ]
    }
   ],
   "source": [
    "x = int(input())\n",
    "if x%2==0:\n",
    "    print(\"even\")\n",
    "else:\n",
    "    print(\"odd\")"
   ]
  },
  {
   "cell_type": "code",
   "execution_count": 4,
   "metadata": {
    "collapsed": false
   },
   "outputs": [
    {
     "name": "stdout",
     "output_type": "stream",
     "text": [
      "5\n",
      "Summer\n"
     ]
    }
   ],
   "source": [
    "x = int(input())\n",
    "if (x==11 or x==12 or x==1):\n",
    "    print(\"winter\")\n",
    "elif (x==2 or x==3 or x==4 ):\n",
    "    print(\"Autumn\")  \n",
    "elif (x==5 or x==6 or x==7):\n",
    "    print(\"Summer\")\n",
    "elif (x==8 or x==9 or x==10):\n",
    "    print(\"Spring\") \n",
    "  "
   ]
  },
  {
   "cell_type": "code",
   "execution_count": 13,
   "metadata": {
    "collapsed": false
   },
   "outputs": [
    {
     "name": "stdout",
     "output_type": "stream",
     "text": [
      "8\n",
      "leap year\n"
     ]
    }
   ],
   "source": [
    "x = int(input())\n",
    "if (x % 4) == 0:\n",
    "   if (x % 100) == 0:\n",
    "       if (x % 400) == 0:\n",
    "           print(\"leap year\")\n",
    "       else:\n",
    "           print(\"Not a leap year\")\n",
    "   else:\n",
    "       print(\"leap year\")\n",
    "else:\n",
    "   print(\"Not a leap year\")"
   ]
  },
  {
   "cell_type": "code",
   "execution_count": 23,
   "metadata": {
    "collapsed": false
   },
   "outputs": [
    {
     "name": "stdout",
     "output_type": "stream",
     "text": [
      " wo\n",
      "rwol\n",
      "el o\n",
      "dlrow olleh\n"
     ]
    }
   ],
   "source": [
    "s=\"hello world\"\n",
    "print(s[5:8])\n",
    "print(s[8:1:-2])\n",
    "print(s[1:8:2])\n",
    "print(s[::-1])"
   ]
  },
  {
   "cell_type": "code",
   "execution_count": null,
   "metadata": {
    "collapsed": true
   },
   "outputs": [],
   "source": []
  },
  {
   "cell_type": "code",
   "execution_count": null,
   "metadata": {
    "collapsed": true
   },
   "outputs": [],
   "source": []
  }
 ],
 "metadata": {
  "kernelspec": {
   "display_name": "Python [Root]",
   "language": "python",
   "name": "Python [Root]"
  },
  "language_info": {
   "codemirror_mode": {
    "name": "ipython",
    "version": 3
   },
   "file_extension": ".py",
   "mimetype": "text/x-python",
   "name": "python",
   "nbconvert_exporter": "python",
   "pygments_lexer": "ipython3",
   "version": "3.5.2"
  }
 },
 "nbformat": 4,
 "nbformat_minor": 0
}
